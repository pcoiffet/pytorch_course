{
  "nbformat": 4,
  "nbformat_minor": 0,
  "metadata": {
    "colab": {
      "provenance": [],
      "collapsed_sections": [
        "-zs-T3RKinnQ",
        "FP8J-a70ldAo",
        "HwP57f2dlfQ4",
        "sosErBNTmXhD",
        "5DLhwNwKnIpl",
        "-vlQHAUDoMNq",
        "eUs0H0YgqaRF",
        "JTz8gomKq9ne",
        "0uhCxqparevr",
        "URsmirmhsfrx",
        "tflPjRk7vgDg",
        "g_jOkfQT5TZI",
        "bjVSIYc66Gj4",
        "B7MQsc-16M9C",
        "WYJe9MH9H5ru"
      ],
      "authorship_tag": "ABX9TyPoRpHjWiYt4Hmb5SzB8nYq",
      "include_colab_link": true
    },
    "kernelspec": {
      "name": "python3",
      "display_name": "Python 3"
    },
    "language_info": {
      "name": "python"
    }
  },
  "cells": [
    {
      "cell_type": "markdown",
      "metadata": {
        "id": "view-in-github",
        "colab_type": "text"
      },
      "source": [
        "<a href=\"https://colab.research.google.com/github/pcoiffet/pytorch_course/blob/main/pytorch_tensors.ipynb\" target=\"_parent\"><img src=\"https://colab.research.google.com/assets/colab-badge.svg\" alt=\"Open In Colab\"/></a>"
      ]
    },
    {
      "cell_type": "code",
      "execution_count": null,
      "metadata": {
        "colab": {
          "base_uri": "https://localhost:8080/",
          "height": 35
        },
        "id": "XgoW6aYgiOlb",
        "outputId": "c754683e-7faa-4f9d-f0a7-e14a89ea1429"
      },
      "outputs": [
        {
          "output_type": "execute_result",
          "data": {
            "text/plain": [
              "'2.1.0+cu118'"
            ],
            "application/vnd.google.colaboratory.intrinsic+json": {
              "type": "string"
            }
          },
          "metadata": {},
          "execution_count": 1
        }
      ],
      "source": [
        "import torch\n",
        "torch.__version__"
      ]
    },
    {
      "cell_type": "markdown",
      "source": [
        "# Introduction to tensors\n"
      ],
      "metadata": {
        "id": "-zs-T3RKinnQ"
      }
    },
    {
      "cell_type": "markdown",
      "source": [
        "## Creating tensors"
      ],
      "metadata": {
        "id": "FP8J-a70ldAo"
      }
    },
    {
      "cell_type": "markdown",
      "source": [
        "First, scalars :"
      ],
      "metadata": {
        "id": "Z9L-L9xbjLBB"
      }
    },
    {
      "cell_type": "code",
      "source": [
        "#Scalar\n",
        "scalar = torch.tensor(7)\n",
        "scalar"
      ],
      "metadata": {
        "colab": {
          "base_uri": "https://localhost:8080/"
        },
        "id": "2FCUmY2kirto",
        "outputId": "ea9aa331-2647-497a-d44b-f0ba0f7c87e5"
      },
      "execution_count": null,
      "outputs": [
        {
          "output_type": "execute_result",
          "data": {
            "text/plain": [
              "tensor(7)"
            ]
          },
          "metadata": {},
          "execution_count": 2
        }
      ]
    },
    {
      "cell_type": "code",
      "source": [
        "#Check for dim\n",
        "scalar.ndim"
      ],
      "metadata": {
        "colab": {
          "base_uri": "https://localhost:8080/"
        },
        "id": "Dm6LY-9Xi03d",
        "outputId": "4abfc076-e142-4e26-c29d-dceb2f048931"
      },
      "execution_count": null,
      "outputs": [
        {
          "output_type": "execute_result",
          "data": {
            "text/plain": [
              "0"
            ]
          },
          "metadata": {},
          "execution_count": 3
        }
      ]
    },
    {
      "cell_type": "code",
      "source": [
        "#Retrieve number (python integer) ? Use item() method\n",
        "scalar.item()"
      ],
      "metadata": {
        "colab": {
          "base_uri": "https://localhost:8080/"
        },
        "id": "haOmFJTri1yR",
        "outputId": "455c8cdb-196d-488c-d5e3-1a290e347b49"
      },
      "execution_count": null,
      "outputs": [
        {
          "output_type": "execute_result",
          "data": {
            "text/plain": [
              "7"
            ]
          },
          "metadata": {},
          "execution_count": 4
        }
      ]
    },
    {
      "cell_type": "markdown",
      "source": [
        "Now, let's see about vectors"
      ],
      "metadata": {
        "id": "gHCRyeR9jIJ6"
      }
    },
    {
      "cell_type": "code",
      "source": [
        "#Vector\n",
        "vector = torch.tensor([7,7])\n",
        "vector"
      ],
      "metadata": {
        "colab": {
          "base_uri": "https://localhost:8080/"
        },
        "id": "MBYfwC5WjBPh",
        "outputId": "1d736b26-5dbd-4f6c-a727-e5c1200e4519"
      },
      "execution_count": null,
      "outputs": [
        {
          "output_type": "execute_result",
          "data": {
            "text/plain": [
              "tensor([7, 7])"
            ]
          },
          "metadata": {},
          "execution_count": 5
        }
      ]
    },
    {
      "cell_type": "code",
      "source": [
        "vector.ndim"
      ],
      "metadata": {
        "colab": {
          "base_uri": "https://localhost:8080/"
        },
        "id": "QommZOFBjWIF",
        "outputId": "52337e7f-ed7f-4307-ab5b-9cdcacc2d0d2"
      },
      "execution_count": null,
      "outputs": [
        {
          "output_type": "execute_result",
          "data": {
            "text/plain": [
              "1"
            ]
          },
          "metadata": {},
          "execution_count": 6
        }
      ]
    },
    {
      "cell_type": "markdown",
      "source": [
        "TIPS : dim of a tensor : number of [ on the outside in one side."
      ],
      "metadata": {
        "id": "2D-lYtDdjf6E"
      }
    },
    {
      "cell_type": "code",
      "source": [
        "#Check shape of the vector\n",
        "vector.shape"
      ],
      "metadata": {
        "colab": {
          "base_uri": "https://localhost:8080/"
        },
        "id": "Y2TBuyEmjnIC",
        "outputId": "092634b5-6df2-46ed-e1fb-c812310e1b39"
      },
      "execution_count": null,
      "outputs": [
        {
          "output_type": "execute_result",
          "data": {
            "text/plain": [
              "torch.Size([2])"
            ]
          },
          "metadata": {},
          "execution_count": 7
        }
      ]
    },
    {
      "cell_type": "markdown",
      "source": [
        "Now, let's see about matrix"
      ],
      "metadata": {
        "id": "39Gezg04jtfo"
      }
    },
    {
      "cell_type": "code",
      "source": [
        "#Matrix\n",
        "MATRIX = torch.tensor([[7,8],\n",
        "                        [9,10]])\n",
        "MATRIX"
      ],
      "metadata": {
        "colab": {
          "base_uri": "https://localhost:8080/"
        },
        "id": "1UxW8X7HjvnJ",
        "outputId": "ffd893ef-70ae-4492-db42-a1e4b37126fb"
      },
      "execution_count": null,
      "outputs": [
        {
          "output_type": "execute_result",
          "data": {
            "text/plain": [
              "tensor([[ 7,  8],\n",
              "        [ 9, 10]])"
            ]
          },
          "metadata": {},
          "execution_count": 10
        }
      ]
    },
    {
      "cell_type": "code",
      "source": [
        "MATRIX.ndim"
      ],
      "metadata": {
        "colab": {
          "base_uri": "https://localhost:8080/"
        },
        "id": "zluVkgPTj2cH",
        "outputId": "768d99ac-57bd-4a8b-e9e9-a5432ae00611"
      },
      "execution_count": null,
      "outputs": [
        {
          "output_type": "execute_result",
          "data": {
            "text/plain": [
              "2"
            ]
          },
          "metadata": {},
          "execution_count": 13
        }
      ]
    },
    {
      "cell_type": "code",
      "source": [
        "MATRIX.shape"
      ],
      "metadata": {
        "colab": {
          "base_uri": "https://localhost:8080/"
        },
        "id": "CnkgkzFZkDmZ",
        "outputId": "8225b0d5-65bf-4fbd-889c-fe8470dfb470"
      },
      "execution_count": null,
      "outputs": [
        {
          "output_type": "execute_result",
          "data": {
            "text/plain": [
              "torch.Size([2, 2])"
            ]
          },
          "metadata": {},
          "execution_count": 14
        }
      ]
    },
    {
      "cell_type": "markdown",
      "source": [
        "How about we create a tensor ?"
      ],
      "metadata": {
        "id": "MUS4TwJgkNdY"
      }
    },
    {
      "cell_type": "code",
      "source": [
        "#Tensor :\n",
        "TENSOR = torch.tensor([[[1,2,3],\n",
        "                        [4,5,6],\n",
        "                        [2,4,5]]])\n",
        "TENSOR"
      ],
      "metadata": {
        "colab": {
          "base_uri": "https://localhost:8080/"
        },
        "id": "Ab74BlmFjq5R",
        "outputId": "c43c8474-7aa7-49be-f4e9-c797b70441ac"
      },
      "execution_count": null,
      "outputs": [
        {
          "output_type": "execute_result",
          "data": {
            "text/plain": [
              "tensor([[[1, 2, 3],\n",
              "         [4, 5, 6],\n",
              "         [2, 4, 5]]])"
            ]
          },
          "metadata": {},
          "execution_count": 15
        }
      ]
    },
    {
      "cell_type": "code",
      "source": [
        "# Check number of dimensions for TENSOR\n",
        "TENSOR.ndim"
      ],
      "metadata": {
        "colab": {
          "base_uri": "https://localhost:8080/"
        },
        "id": "XV6ZJDgijY9K",
        "outputId": "788630ad-2ac9-4b27-ac0a-e25b79419a38"
      },
      "execution_count": null,
      "outputs": [
        {
          "output_type": "execute_result",
          "data": {
            "text/plain": [
              "3"
            ]
          },
          "metadata": {},
          "execution_count": 16
        }
      ]
    },
    {
      "cell_type": "code",
      "source": [
        "# Check shape of TENSOR\n",
        "TENSOR.shape"
      ],
      "metadata": {
        "colab": {
          "base_uri": "https://localhost:8080/"
        },
        "id": "ZQp0-V4JkrZ5",
        "outputId": "c55f2b0a-2d12-41b9-815c-aa8c5dfe8c6b"
      },
      "execution_count": null,
      "outputs": [
        {
          "output_type": "execute_result",
          "data": {
            "text/plain": [
              "torch.Size([1, 3, 3])"
            ]
          },
          "metadata": {},
          "execution_count": 17
        }
      ]
    },
    {
      "cell_type": "markdown",
      "source": [
        "## Random Tensors"
      ],
      "metadata": {
        "id": "HwP57f2dlfQ4"
      }
    },
    {
      "cell_type": "code",
      "source": [
        "# Create a andom tensor of size (3,4)\n",
        "random_tensor = torch.rand(size=(3,4))\n",
        "random_tensor, random_tensor.dtype"
      ],
      "metadata": {
        "colab": {
          "base_uri": "https://localhost:8080/"
        },
        "id": "e6MGFjhxlhC8",
        "outputId": "5efd86f0-7eda-4f64-d5b3-8d82ea934495"
      },
      "execution_count": null,
      "outputs": [
        {
          "output_type": "execute_result",
          "data": {
            "text/plain": [
              "(tensor([[0.9363, 0.1358, 0.1680, 0.2825],\n",
              "         [0.9892, 0.3382, 0.3642, 0.3308],\n",
              "         [0.0296, 0.6872, 0.9768, 0.6161]]),\n",
              " torch.float32)"
            ]
          },
          "metadata": {},
          "execution_count": 18
        }
      ]
    },
    {
      "cell_type": "markdown",
      "source": [
        "example : typical random tensor for an image:"
      ],
      "metadata": {
        "id": "a1t5D546l8KY"
      }
    },
    {
      "cell_type": "code",
      "source": [
        "# Create a random tensor of size (224, 224, 3)\n",
        "random_image_size_tensor = torch.rand(size=(224, 224, 3))\n",
        "random_image_size_tensor.shape, random_image_size_tensor.ndim"
      ],
      "metadata": {
        "colab": {
          "base_uri": "https://localhost:8080/"
        },
        "id": "V4yQZG4dl3H5",
        "outputId": "dfadca46-4be9-4b96-938f-9f95f1533f33"
      },
      "execution_count": null,
      "outputs": [
        {
          "output_type": "execute_result",
          "data": {
            "text/plain": [
              "(torch.Size([224, 224, 3]), 3)"
            ]
          },
          "metadata": {},
          "execution_count": 19
        }
      ]
    },
    {
      "cell_type": "markdown",
      "source": [
        "## Zeros and ones\n"
      ],
      "metadata": {
        "id": "sosErBNTmXhD"
      }
    },
    {
      "cell_type": "code",
      "source": [
        "zeros = torch.zeros(size = (3,4))\n",
        "zeros, zeros.dtype"
      ],
      "metadata": {
        "colab": {
          "base_uri": "https://localhost:8080/"
        },
        "id": "Wqi5_cgKmZRf",
        "outputId": "1337979d-b5c5-42d9-8ffd-468f69e85c64"
      },
      "execution_count": null,
      "outputs": [
        {
          "output_type": "execute_result",
          "data": {
            "text/plain": [
              "(tensor([[0., 0., 0., 0.],\n",
              "         [0., 0., 0., 0.],\n",
              "         [0., 0., 0., 0.]]),\n",
              " torch.float32)"
            ]
          },
          "metadata": {},
          "execution_count": 20
        }
      ]
    },
    {
      "cell_type": "code",
      "source": [
        "ones = torch.ones(size=(3,4))\n",
        "ones, ones.dtype"
      ],
      "metadata": {
        "colab": {
          "base_uri": "https://localhost:8080/"
        },
        "id": "YgEQIAmwm_bu",
        "outputId": "7dee76ff-3ddb-4e6c-914b-cc89ccf504ed"
      },
      "execution_count": null,
      "outputs": [
        {
          "output_type": "execute_result",
          "data": {
            "text/plain": [
              "(tensor([[1., 1., 1., 1.],\n",
              "         [1., 1., 1., 1.],\n",
              "         [1., 1., 1., 1.]]),\n",
              " torch.float32)"
            ]
          },
          "metadata": {},
          "execution_count": 25
        }
      ]
    },
    {
      "cell_type": "markdown",
      "source": [
        "## Creating a range and tensors like\n"
      ],
      "metadata": {
        "id": "5DLhwNwKnIpl"
      }
    },
    {
      "cell_type": "code",
      "source": [
        "# Use torch.arange(), torch.range() is deprecated\n",
        "zero_to_ten_deprecated = torch.range(0,10)\n",
        "\n",
        "# Create a range of values 0 to 10 with a step of 2\n",
        "zero_to_ten = torch.arange(0,10,2)\n",
        "zero_to_ten"
      ],
      "metadata": {
        "colab": {
          "base_uri": "https://localhost:8080/"
        },
        "id": "8JjgywlCnFpT",
        "outputId": "5e68944a-c944-45f0-8988-733106c2d298"
      },
      "execution_count": null,
      "outputs": [
        {
          "output_type": "stream",
          "name": "stderr",
          "text": [
            "<ipython-input-28-3cd1fe0d0c7a>:2: UserWarning: torch.range is deprecated and will be removed in a future release because its behavior is inconsistent with Python's range builtin. Instead, use torch.arange, which produces values in [start, end).\n",
            "  zero_to_ten_deprecated = torch.range(0,10)\n"
          ]
        },
        {
          "output_type": "execute_result",
          "data": {
            "text/plain": [
              "tensor([0, 2, 4, 6, 8])"
            ]
          },
          "metadata": {},
          "execution_count": 28
        }
      ]
    },
    {
      "cell_type": "markdown",
      "source": [
        "\n",
        "Sometimes you might want one tensor of a certain type with the same shape as another tensor."
      ],
      "metadata": {
        "id": "cDttOYCGn_8e"
      }
    },
    {
      "cell_type": "code",
      "source": [
        "# Can also create a tensor of zeros similar to another tensor\n",
        "ten_zeros = torch.zeros_like(input = zero_to_ten)\n",
        "ten_zeros"
      ],
      "metadata": {
        "colab": {
          "base_uri": "https://localhost:8080/"
        },
        "id": "5W2suChZn8O6",
        "outputId": "0807a7d2-e67e-42dc-f8ee-efa4e52eb4f9"
      },
      "execution_count": null,
      "outputs": [
        {
          "output_type": "execute_result",
          "data": {
            "text/plain": [
              "tensor([0, 0, 0, 0, 0])"
            ]
          },
          "metadata": {},
          "execution_count": 29
        }
      ]
    },
    {
      "cell_type": "markdown",
      "source": [
        "##Tensor datatypes\n"
      ],
      "metadata": {
        "id": "-vlQHAUDoMNq"
      }
    },
    {
      "cell_type": "markdown",
      "source": [
        "Many different tensor datatypes available in pytorch. Some are specefic for CPU, others are better for GPU...\n",
        "Generally, if we see torch.cuda anywhere, the tensor is used for GPU\n",
        "\n",
        "Most common type is torch.float32 or torch.float\n",
        "Referred to 32-bit floating point\n",
        "\n",
        "But there is also 16-bit floating point (torch.float16 or torch.half) and 64-bit floating point (torch.float64 or torch.double)\n",
        "\n",
        "The main reason for all of this is **Precision in computing**.\n",
        "Precision is the amount of detail used to describe a number\n",
        "\n",
        "the higher the precision value (8,16,32) the more detail and hence data used to express a number.\n",
        "\n",
        "Thi matters in deep learning and numerical computing because you're making so many operations, the moral detail you have to calculate on, the more compute you have to use.\n",
        "\n",
        "So, lower precision datatypes are generally faster to compute on but sacrifice some performance on evaluation metrics like accuracy.\n",
        "\n",
        "FASTER TO COMPUTE BUT LESS ACCURATE"
      ],
      "metadata": {
        "id": "nFk1Yb6ToSZs"
      }
    },
    {
      "cell_type": "code",
      "source": [
        "# Default datatype for tensors is float32\n",
        "float_32_tensor = torch.tensor([3.0, 6.0, 9.0],\n",
        "                               dtype=None, # defaults to None, which is torch.float32 or whatever datatype is passed\n",
        "                               device=None, # defaults to None, which uses the default tensor type\n",
        "                               requires_grad=False) # if True, operations performed on the tensor are recorded\n",
        "\n",
        "float_32_tensor.shape, float_32_tensor.dtype, float_32_tensor.device"
      ],
      "metadata": {
        "colab": {
          "base_uri": "https://localhost:8080/"
        },
        "id": "leGVRhYNn6e8",
        "outputId": "f9be2608-9e40-4059-aaef-b90f2d88e2df"
      },
      "execution_count": null,
      "outputs": [
        {
          "output_type": "execute_result",
          "data": {
            "text/plain": [
              "(torch.Size([3]), torch.float32, device(type='cpu'))"
            ]
          },
          "metadata": {},
          "execution_count": 30
        }
      ]
    },
    {
      "cell_type": "markdown",
      "source": [
        "Typical errors with tensors:\n",
        "- tensor shapes don't match up\n",
        "- datatypes not on the same format (16 bit and 32 bit)\n",
        "- tensors not on the same device (CPU/GPU)"
      ],
      "metadata": {
        "id": "eY0p9cVIqIBG"
      }
    },
    {
      "cell_type": "code",
      "source": [
        "float_16_tensor = torch.tensor([3.0, 6.0, 9.0],\n",
        "                               dtype=torch.float16) # torch.half would also work\n",
        "\n",
        "float_16_tensor.dtype"
      ],
      "metadata": {
        "colab": {
          "base_uri": "https://localhost:8080/"
        },
        "id": "Y9MpTtIop0YB",
        "outputId": "b86814b7-95e4-494d-ac3c-2b0dae98c3cc"
      },
      "execution_count": null,
      "outputs": [
        {
          "output_type": "execute_result",
          "data": {
            "text/plain": [
              "torch.float16"
            ]
          },
          "metadata": {},
          "execution_count": 31
        }
      ]
    },
    {
      "cell_type": "markdown",
      "source": [
        "# Getting information from tensors\n"
      ],
      "metadata": {
        "id": "eUs0H0YgqaRF"
      }
    },
    {
      "cell_type": "code",
      "source": [
        "# Create a tensor\n",
        "some_tensor = torch.rand(3, 4)\n",
        "\n",
        "# Find out details about it\n",
        "print(some_tensor)\n",
        "print(f\"Shape of tensor: {some_tensor.shape}\")\n",
        "print(f\"Datatype of tensor: {some_tensor.dtype}\")\n",
        "print(f\"Device tensor is stored on: {some_tensor.device}\") # will default to CPU"
      ],
      "metadata": {
        "colab": {
          "base_uri": "https://localhost:8080/"
        },
        "id": "clHsA9d7qbGo",
        "outputId": "f220619a-7bfb-410a-fda2-f95d21710838"
      },
      "execution_count": null,
      "outputs": [
        {
          "output_type": "stream",
          "name": "stdout",
          "text": [
            "tensor([[0.1309, 0.7483, 0.1648, 0.0669],\n",
            "        [0.5953, 0.8594, 0.2172, 0.0240],\n",
            "        [0.1887, 0.8412, 0.5070, 0.8819]])\n",
            "Shape of tensor: torch.Size([3, 4])\n",
            "Datatype of tensor: torch.float32\n",
            "Device tensor is stored on: cpu\n"
          ]
        }
      ]
    },
    {
      "cell_type": "markdown",
      "source": [
        "\"what shape are my tensors? what datatype are they and where are they stored? what shape, what datatype, where where where\""
      ],
      "metadata": {
        "id": "_dYaZscfq628"
      }
    },
    {
      "cell_type": "markdown",
      "source": [
        "# Manipulating tensors (tensor operations)\n"
      ],
      "metadata": {
        "id": "JTz8gomKq9ne"
      }
    },
    {
      "cell_type": "markdown",
      "source": [
        "In deep learning, data (images, text, video, audio, protein structures, etc) gets represented as tensors.\n",
        "\n",
        "A model learns by investigating those tensors and performing a series of operations (could be 1,000,000s+) on tensors to create a representation of the patterns in the input data.\n",
        "\n",
        "These operations are often a wonderful dance between:\n",
        "\n",
        "Addition\n",
        "Substraction\n",
        "Multiplication (element-wise)\n",
        "Division\n",
        "Matrix multiplication"
      ],
      "metadata": {
        "id": "Sm2-CejIrbPV"
      }
    },
    {
      "cell_type": "markdown",
      "source": [
        "### Basic operations"
      ],
      "metadata": {
        "id": "0uhCxqparevr"
      }
    },
    {
      "cell_type": "code",
      "source": [
        "# Create a tensor of values and add a number to it\n",
        "tensor = torch.tensor([1,2,3])\n",
        "tensor + 10"
      ],
      "metadata": {
        "colab": {
          "base_uri": "https://localhost:8080/"
        },
        "id": "tXce72L1q7cU",
        "outputId": "a5127b6d-21a1-443f-bde7-142e89cd7328"
      },
      "execution_count": null,
      "outputs": [
        {
          "output_type": "execute_result",
          "data": {
            "text/plain": [
              "tensor([11, 12, 13])"
            ]
          },
          "metadata": {},
          "execution_count": 33
        }
      ]
    },
    {
      "cell_type": "code",
      "source": [
        "# Multiply it by 10\n",
        "tensor * 10"
      ],
      "metadata": {
        "colab": {
          "base_uri": "https://localhost:8080/"
        },
        "id": "QkJuozhgro5w",
        "outputId": "e85e0d05-93ab-49d7-d7e4-7ec794759c23"
      },
      "execution_count": null,
      "outputs": [
        {
          "output_type": "execute_result",
          "data": {
            "text/plain": [
              "tensor([10, 20, 30])"
            ]
          },
          "metadata": {},
          "execution_count": 34
        }
      ]
    },
    {
      "cell_type": "code",
      "source": [
        "# Tensors don't change unless reassigned\n",
        "tensor"
      ],
      "metadata": {
        "colab": {
          "base_uri": "https://localhost:8080/"
        },
        "id": "4Nav_dnmruxU",
        "outputId": "598dab15-0a74-4b13-a6bd-3a8ea7f24475"
      },
      "execution_count": null,
      "outputs": [
        {
          "output_type": "execute_result",
          "data": {
            "text/plain": [
              "tensor([1, 2, 3])"
            ]
          },
          "metadata": {},
          "execution_count": 35
        }
      ]
    },
    {
      "cell_type": "code",
      "source": [
        "# Substract and reassign\n",
        "tensor = tensor - 10\n",
        "tensor"
      ],
      "metadata": {
        "colab": {
          "base_uri": "https://localhost:8080/"
        },
        "id": "WC0c6n2gr4fH",
        "outputId": "ec1a7a7b-6635-417f-99b3-fea87da6e86d"
      },
      "execution_count": null,
      "outputs": [
        {
          "output_type": "execute_result",
          "data": {
            "text/plain": [
              "tensor([-9, -8, -7])"
            ]
          },
          "metadata": {},
          "execution_count": 36
        }
      ]
    },
    {
      "cell_type": "code",
      "source": [
        "# Add and reasign\n",
        "tensor = tensor + 10\n",
        "tensor"
      ],
      "metadata": {
        "colab": {
          "base_uri": "https://localhost:8080/"
        },
        "id": "7pcW7LdEr8Vv",
        "outputId": "a75eb88d-3151-4116-de70-54c5ba098e7c"
      },
      "execution_count": null,
      "outputs": [
        {
          "output_type": "execute_result",
          "data": {
            "text/plain": [
              "tensor([1, 2, 3])"
            ]
          },
          "metadata": {},
          "execution_count": 37
        }
      ]
    },
    {
      "cell_type": "code",
      "source": [
        "# Can also use torch functions\n",
        "torch.multiply(tensor, 10)"
      ],
      "metadata": {
        "colab": {
          "base_uri": "https://localhost:8080/"
        },
        "id": "dmvkkOeOr_7q",
        "outputId": "9443978a-2d11-4a08-ebfc-decf3d0c93f9"
      },
      "execution_count": null,
      "outputs": [
        {
          "output_type": "execute_result",
          "data": {
            "text/plain": [
              "tensor([10, 20, 30])"
            ]
          },
          "metadata": {},
          "execution_count": 38
        }
      ]
    },
    {
      "cell_type": "code",
      "source": [
        "# Original tensor is still unchanged\n",
        "tensor"
      ],
      "metadata": {
        "colab": {
          "base_uri": "https://localhost:8080/"
        },
        "id": "MtwcTY1BsKTw",
        "outputId": "52b262d3-fd97-4bb1-e565-558ad3147090"
      },
      "execution_count": null,
      "outputs": [
        {
          "output_type": "execute_result",
          "data": {
            "text/plain": [
              "tensor([1, 2, 3])"
            ]
          },
          "metadata": {},
          "execution_count": 39
        }
      ]
    },
    {
      "cell_type": "code",
      "source": [
        "# It's more common to use * instead if torch.mul()\n",
        "print(tensor, \"*\", tensor)\n",
        "print(\"Equals:\", tensor * tensor)"
      ],
      "metadata": {
        "colab": {
          "base_uri": "https://localhost:8080/"
        },
        "id": "_kgmRHU4sNuR",
        "outputId": "713f96ef-a14c-453b-dee5-b9df4de5023a"
      },
      "execution_count": null,
      "outputs": [
        {
          "output_type": "stream",
          "name": "stdout",
          "text": [
            "tensor([1, 2, 3]) * tensor([1, 2, 3])\n",
            "Equals: tensor([1, 4, 9])\n"
          ]
        }
      ]
    },
    {
      "cell_type": "markdown",
      "source": [
        "### Matrix multiplication (is all you need)\n"
      ],
      "metadata": {
        "id": "URsmirmhsfrx"
      }
    },
    {
      "cell_type": "markdown",
      "source": [
        "One of the most common operations in machine learning and deep learning algorithms (like neural networks) is matrix multiplication.\n",
        "\n",
        "PyTorch implements matrix multiplication functionality in the torch.matmul() method.\n",
        "\n",
        "The main two rules for matrix multiplication to remember are:\n",
        "\n",
        "The inner dimensions must match:                                              \n",
        "(3, 2) @ (3, 2) won't work                                                             \n",
        "(2, 3) @ (3, 2) will work                                                           \n",
        "(3, 2) @ (2, 3) will work                                                         \n",
        "The resulting matrix has the shape of the outer dimensions:                                        \n",
        "(2, 3) @ (3, 2) -> (2, 2)                                                         \n",
        "(3, 2) @ (2, 3) -> (3, 3)"
      ],
      "metadata": {
        "id": "6D9G0aqBsrLN"
      }
    },
    {
      "cell_type": "code",
      "source": [
        "tensor = torch.tensor([1,2,3])\n",
        "tensor.shape"
      ],
      "metadata": {
        "colab": {
          "base_uri": "https://localhost:8080/"
        },
        "id": "6HwpTwGlsgbe",
        "outputId": "43e81e9e-9b0b-46b6-b1b4-88366978183d"
      },
      "execution_count": null,
      "outputs": [
        {
          "output_type": "execute_result",
          "data": {
            "text/plain": [
              "torch.Size([3])"
            ]
          },
          "metadata": {},
          "execution_count": 41
        }
      ]
    },
    {
      "cell_type": "markdown",
      "source": [
        "![Capture d'écran 2023-11-06 140110.png](data:image/png;base64,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)"
      ],
      "metadata": {
        "id": "KHFL1sfSuNJG"
      }
    },
    {
      "cell_type": "code",
      "source": [
        "# Element-wise matrix multiplication\n",
        "tensor * tensor"
      ],
      "metadata": {
        "colab": {
          "base_uri": "https://localhost:8080/"
        },
        "id": "oImaLWq8tfNX",
        "outputId": "0110a039-6a45-4c53-e767-42fe37f6841b"
      },
      "execution_count": null,
      "outputs": [
        {
          "output_type": "execute_result",
          "data": {
            "text/plain": [
              "tensor([1, 4, 9])"
            ]
          },
          "metadata": {},
          "execution_count": 42
        }
      ]
    },
    {
      "cell_type": "code",
      "source": [
        "# Matrix multiplication\n",
        "torch.matmul(tensor, tensor)"
      ],
      "metadata": {
        "colab": {
          "base_uri": "https://localhost:8080/"
        },
        "id": "Zok7U0iouZn0",
        "outputId": "92763d9f-7bdd-4bd7-a192-3e06c054f72f"
      },
      "execution_count": null,
      "outputs": [
        {
          "output_type": "execute_result",
          "data": {
            "text/plain": [
              "tensor(14)"
            ]
          },
          "metadata": {},
          "execution_count": 43
        }
      ]
    },
    {
      "cell_type": "code",
      "source": [
        "# Can also use the \"@\" symbol for matrix multiplication, though not recommended\n",
        "tensor @ tensor"
      ],
      "metadata": {
        "colab": {
          "base_uri": "https://localhost:8080/"
        },
        "id": "KnzOzHDTucOo",
        "outputId": "8fc072a9-7610-4a00-bef0-17f85e7ef563"
      },
      "execution_count": null,
      "outputs": [
        {
          "output_type": "execute_result",
          "data": {
            "text/plain": [
              "tensor(14)"
            ]
          },
          "metadata": {},
          "execution_count": 44
        }
      ]
    },
    {
      "cell_type": "code",
      "source": [
        "%%time\n",
        "# Matrix multiplication by hand\n",
        "# (avoid doing operations with for loops at all cost, they are computationally expensive)\n",
        "value = 0\n",
        "for i in range(len(tensor)):\n",
        "  value += tensor[i] * tensor[i]\n",
        "value"
      ],
      "metadata": {
        "colab": {
          "base_uri": "https://localhost:8080/"
        },
        "id": "AerSdsbCurJ_",
        "outputId": "31e3cea4-ae3a-4a0f-c7ef-cc429b6e026f"
      },
      "execution_count": null,
      "outputs": [
        {
          "output_type": "stream",
          "name": "stdout",
          "text": [
            "CPU times: user 1.41 ms, sys: 0 ns, total: 1.41 ms\n",
            "Wall time: 1.48 ms\n"
          ]
        },
        {
          "output_type": "execute_result",
          "data": {
            "text/plain": [
              "tensor(14)"
            ]
          },
          "metadata": {},
          "execution_count": 48
        }
      ]
    },
    {
      "cell_type": "markdown",
      "source": [
        "# One of the most common errors in deep learning (shape errors)"
      ],
      "metadata": {
        "id": "tflPjRk7vgDg"
      }
    },
    {
      "cell_type": "code",
      "source": [
        "# Shapes need to be in the right way\n",
        "tensor_A = torch.tensor([[1, 2],\n",
        "                         [3, 4],\n",
        "                         [5, 6]], dtype=torch.float32)\n",
        "\n",
        "tensor_B = torch.tensor([[7, 10],\n",
        "                         [8, 11],\n",
        "                         [9, 12]], dtype=torch.float32)\n",
        "\n",
        "torch.matmul(tensor_A, tensor_B) # (this will error)"
      ],
      "metadata": {
        "colab": {
          "base_uri": "https://localhost:8080/",
          "height": 210
        },
        "id": "DixAua8BvgzH",
        "outputId": "18313ba2-c934-4f8f-c51c-bae202871a45"
      },
      "execution_count": null,
      "outputs": [
        {
          "output_type": "error",
          "ename": "RuntimeError",
          "evalue": "ignored",
          "traceback": [
            "\u001b[0;31m---------------------------------------------------------------------------\u001b[0m",
            "\u001b[0;31mRuntimeError\u001b[0m                              Traceback (most recent call last)",
            "\u001b[0;32m<ipython-input-63-aceec990e652>\u001b[0m in \u001b[0;36m<cell line: 10>\u001b[0;34m()\u001b[0m\n\u001b[1;32m      8\u001b[0m                          [9, 12]], dtype=torch.float32)\n\u001b[1;32m      9\u001b[0m \u001b[0;34m\u001b[0m\u001b[0m\n\u001b[0;32m---> 10\u001b[0;31m \u001b[0mtorch\u001b[0m\u001b[0;34m.\u001b[0m\u001b[0mmatmul\u001b[0m\u001b[0;34m(\u001b[0m\u001b[0mtensor_A\u001b[0m\u001b[0;34m,\u001b[0m \u001b[0mtensor_B\u001b[0m\u001b[0;34m)\u001b[0m \u001b[0;31m# (this will error)\u001b[0m\u001b[0;34m\u001b[0m\u001b[0;34m\u001b[0m\u001b[0m\n\u001b[0m",
            "\u001b[0;31mRuntimeError\u001b[0m: mat1 and mat2 shapes cannot be multiplied (3x2 and 3x2)"
          ]
        }
      ]
    },
    {
      "cell_type": "markdown",
      "source": [
        "We can transpose the matrix"
      ],
      "metadata": {
        "id": "xjgk5ufyx0Gp"
      }
    },
    {
      "cell_type": "code",
      "source": [
        "# View tensor_A and tensor_B\n",
        "print(tensor_A)\n",
        "print(tensor_B)"
      ],
      "metadata": {
        "colab": {
          "base_uri": "https://localhost:8080/"
        },
        "id": "zUU0HC1mxzme",
        "outputId": "7d315535-7ab0-4aab-b342-91e587e7e3f5"
      },
      "execution_count": null,
      "outputs": [
        {
          "output_type": "stream",
          "name": "stdout",
          "text": [
            "tensor([[1., 2.],\n",
            "        [3., 4.],\n",
            "        [5., 6.]])\n",
            "tensor([[ 7., 10.],\n",
            "        [ 8., 11.],\n",
            "        [ 9., 12.]])\n"
          ]
        }
      ]
    },
    {
      "cell_type": "code",
      "source": [
        "# View tensor_A and tensor_B.T\n",
        "print(tensor_A)\n",
        "print(tensor_B.T)"
      ],
      "metadata": {
        "colab": {
          "base_uri": "https://localhost:8080/"
        },
        "id": "5Kk38W9yx3T6",
        "outputId": "f97f6235-8c4e-4f0b-844c-d387b73c4627"
      },
      "execution_count": null,
      "outputs": [
        {
          "output_type": "stream",
          "name": "stdout",
          "text": [
            "tensor([[1., 2.],\n",
            "        [3., 4.],\n",
            "        [5., 6.]])\n",
            "tensor([[ 7.,  8.,  9.],\n",
            "        [10., 11., 12.]])\n"
          ]
        }
      ]
    },
    {
      "cell_type": "code",
      "source": [
        "# The operation works when tensor_B is transposed\n",
        "print(f\"Original shapes: tensor_A = {tensor_A.shape}, tensor_B = {tensor_B.shape}\\n\")\n",
        "print(f\"New shapes: tensor_A = {tensor_A.shape} (same as above), tensor_B.T = {tensor_B.T.shape}\\n\")\n",
        "print(f\"Multiplying: {tensor_A.shape} * {tensor_B.T.shape} <- inner dimensions match\\n\")\n",
        "print(\"Output:\\n\")\n",
        "output = torch.matmul(tensor_A, tensor_B.T)\n",
        "print(output)\n",
        "print(f\"\\nOutput shape: {output.shape}\")"
      ],
      "metadata": {
        "colab": {
          "base_uri": "https://localhost:8080/"
        },
        "id": "8M-uAIR2x4MC",
        "outputId": "3fb7bcc4-6d8c-482c-90a7-1a1997417cb7"
      },
      "execution_count": null,
      "outputs": [
        {
          "output_type": "stream",
          "name": "stdout",
          "text": [
            "Original shapes: tensor_A = torch.Size([3, 2]), tensor_B = torch.Size([3, 2])\n",
            "\n",
            "New shapes: tensor_A = torch.Size([3, 2]) (same as above), tensor_B.T = torch.Size([2, 3])\n",
            "\n",
            "Multiplying: torch.Size([3, 2]) * torch.Size([2, 3]) <- inner dimensions match\n",
            "\n",
            "Output:\n",
            "\n",
            "tensor([[ 27.,  30.,  33.],\n",
            "        [ 61.,  68.,  75.],\n",
            "        [ 95., 106., 117.]])\n",
            "\n",
            "Output shape: torch.Size([3, 3])\n"
          ]
        }
      ]
    },
    {
      "cell_type": "code",
      "source": [
        "# torch.mm is a shortcut for matmul\n",
        "torch.mm(tensor_A, tensor_B.T)"
      ],
      "metadata": {
        "colab": {
          "base_uri": "https://localhost:8080/"
        },
        "id": "aQW1nUFHyVZG",
        "outputId": "c21177c9-337d-4409-8d78-f9eb4bd150da"
      },
      "execution_count": null,
      "outputs": [
        {
          "output_type": "execute_result",
          "data": {
            "text/plain": [
              "tensor([[ 27.,  30.,  33.],\n",
              "        [ 61.,  68.,  75.],\n",
              "        [ 95., 106., 117.]])"
            ]
          },
          "metadata": {},
          "execution_count": 53
        }
      ]
    },
    {
      "cell_type": "markdown",
      "source": [
        "\n",
        "Neural networks are full of matrix multiplications and dot products.\n",
        "\n",
        "The torch.nn.Linear() module (we'll see this in action later on), also known as a feed-forward layer or fully connected layer, implements a matrix multiplication between an input x and a weights matrix A.\n",
        "\n",
        "![image.png](data:image/png;base64,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)\n",
        "\n",
        "Where:\n",
        "\n",
        "x is the input to the layer (deep learning is a stack of layers like torch.nn.Linear() and others on top of each other).\n",
        "\n",
        "A is the weights matrix created by the layer, this starts out as random numbers that get adjusted as a neural network learns to better represent patterns in the data (notice the \"T\", that's because the weights matrix gets transposed).\n",
        "\n",
        "Note: You might also often see W or another letter like X used to showcase the weights matrix.\n",
        "\n",
        "b is the bias term used to slightly offset the weights and inputs.\n",
        "\n",
        "y is the output (a manipulation of the input in the hopes to discover patterns in it).\n",
        "\n",
        "This is a linear function (you may have seen something like $y = mx+b$ in high school or elsewhere), and can be used to draw a straight line!"
      ],
      "metadata": {
        "id": "45p0iuaf0zrF"
      }
    },
    {
      "cell_type": "code",
      "source": [
        "# Since the linear layer starts with a random weights matrix, let's make it reproducible\n",
        "torch.manual_seed(42)\n",
        "# This uses matrix multiplication\n",
        "linear = torch.nn.Linear(in_features=2, # in_features = matches inner dimension of input\n",
        "                         out_features=6) # out_features = describes outer value\n",
        "x = tensor_A\n",
        "output = linear(x)\n",
        "print(f\"Input shape: {x.shape}\\n\")\n",
        "print(f\"Output:\\n{output}\\n\\nOutput shape: {output.shape}\")"
      ],
      "metadata": {
        "colab": {
          "base_uri": "https://localhost:8080/",
          "height": 390
        },
        "id": "3uoJ2Z0y1LRz",
        "outputId": "b7cdf1fc-d3f1-4000-d9b0-77fa4a197e26"
      },
      "execution_count": null,
      "outputs": [
        {
          "output_type": "error",
          "ename": "RuntimeError",
          "evalue": "ignored",
          "traceback": [
            "\u001b[0;31m---------------------------------------------------------------------------\u001b[0m",
            "\u001b[0;31mRuntimeError\u001b[0m                              Traceback (most recent call last)",
            "\u001b[0;32m<ipython-input-58-9ba09f862431>\u001b[0m in \u001b[0;36m<cell line: 7>\u001b[0;34m()\u001b[0m\n\u001b[1;32m      5\u001b[0m                          out_features=6) # out_features = describes outer value \n\u001b[1;32m      6\u001b[0m \u001b[0mx\u001b[0m \u001b[0;34m=\u001b[0m \u001b[0mtensor_A\u001b[0m\u001b[0;34m\u001b[0m\u001b[0;34m\u001b[0m\u001b[0m\n\u001b[0;32m----> 7\u001b[0;31m \u001b[0moutput\u001b[0m \u001b[0;34m=\u001b[0m \u001b[0mlinear\u001b[0m\u001b[0;34m(\u001b[0m\u001b[0mx\u001b[0m\u001b[0;34m)\u001b[0m\u001b[0;34m\u001b[0m\u001b[0;34m\u001b[0m\u001b[0m\n\u001b[0m\u001b[1;32m      8\u001b[0m \u001b[0mprint\u001b[0m\u001b[0;34m(\u001b[0m\u001b[0;34mf\"Input shape: {x.shape}\\n\"\u001b[0m\u001b[0;34m)\u001b[0m\u001b[0;34m\u001b[0m\u001b[0;34m\u001b[0m\u001b[0m\n\u001b[1;32m      9\u001b[0m \u001b[0mprint\u001b[0m\u001b[0;34m(\u001b[0m\u001b[0;34mf\"Output:\\n{output}\\n\\nOutput shape: {output.shape}\"\u001b[0m\u001b[0;34m)\u001b[0m\u001b[0;34m\u001b[0m\u001b[0;34m\u001b[0m\u001b[0m\n",
            "\u001b[0;32m/usr/local/lib/python3.10/dist-packages/torch/nn/modules/module.py\u001b[0m in \u001b[0;36m_wrapped_call_impl\u001b[0;34m(self, *args, **kwargs)\u001b[0m\n\u001b[1;32m   1516\u001b[0m             \u001b[0;32mreturn\u001b[0m \u001b[0mself\u001b[0m\u001b[0;34m.\u001b[0m\u001b[0m_compiled_call_impl\u001b[0m\u001b[0;34m(\u001b[0m\u001b[0;34m*\u001b[0m\u001b[0margs\u001b[0m\u001b[0;34m,\u001b[0m \u001b[0;34m**\u001b[0m\u001b[0mkwargs\u001b[0m\u001b[0;34m)\u001b[0m  \u001b[0;31m# type: ignore[misc]\u001b[0m\u001b[0;34m\u001b[0m\u001b[0;34m\u001b[0m\u001b[0m\n\u001b[1;32m   1517\u001b[0m         \u001b[0;32melse\u001b[0m\u001b[0;34m:\u001b[0m\u001b[0;34m\u001b[0m\u001b[0;34m\u001b[0m\u001b[0m\n\u001b[0;32m-> 1518\u001b[0;31m             \u001b[0;32mreturn\u001b[0m \u001b[0mself\u001b[0m\u001b[0;34m.\u001b[0m\u001b[0m_call_impl\u001b[0m\u001b[0;34m(\u001b[0m\u001b[0;34m*\u001b[0m\u001b[0margs\u001b[0m\u001b[0;34m,\u001b[0m \u001b[0;34m**\u001b[0m\u001b[0mkwargs\u001b[0m\u001b[0;34m)\u001b[0m\u001b[0;34m\u001b[0m\u001b[0;34m\u001b[0m\u001b[0m\n\u001b[0m\u001b[1;32m   1519\u001b[0m \u001b[0;34m\u001b[0m\u001b[0m\n\u001b[1;32m   1520\u001b[0m     \u001b[0;32mdef\u001b[0m \u001b[0m_call_impl\u001b[0m\u001b[0;34m(\u001b[0m\u001b[0mself\u001b[0m\u001b[0;34m,\u001b[0m \u001b[0;34m*\u001b[0m\u001b[0margs\u001b[0m\u001b[0;34m,\u001b[0m \u001b[0;34m**\u001b[0m\u001b[0mkwargs\u001b[0m\u001b[0;34m)\u001b[0m\u001b[0;34m:\u001b[0m\u001b[0;34m\u001b[0m\u001b[0;34m\u001b[0m\u001b[0m\n",
            "\u001b[0;32m/usr/local/lib/python3.10/dist-packages/torch/nn/modules/module.py\u001b[0m in \u001b[0;36m_call_impl\u001b[0;34m(self, *args, **kwargs)\u001b[0m\n\u001b[1;32m   1525\u001b[0m                 \u001b[0;32mor\u001b[0m \u001b[0m_global_backward_pre_hooks\u001b[0m \u001b[0;32mor\u001b[0m \u001b[0m_global_backward_hooks\u001b[0m\u001b[0;34m\u001b[0m\u001b[0;34m\u001b[0m\u001b[0m\n\u001b[1;32m   1526\u001b[0m                 or _global_forward_hooks or _global_forward_pre_hooks):\n\u001b[0;32m-> 1527\u001b[0;31m             \u001b[0;32mreturn\u001b[0m \u001b[0mforward_call\u001b[0m\u001b[0;34m(\u001b[0m\u001b[0;34m*\u001b[0m\u001b[0margs\u001b[0m\u001b[0;34m,\u001b[0m \u001b[0;34m**\u001b[0m\u001b[0mkwargs\u001b[0m\u001b[0;34m)\u001b[0m\u001b[0;34m\u001b[0m\u001b[0;34m\u001b[0m\u001b[0m\n\u001b[0m\u001b[1;32m   1528\u001b[0m \u001b[0;34m\u001b[0m\u001b[0m\n\u001b[1;32m   1529\u001b[0m         \u001b[0;32mtry\u001b[0m\u001b[0;34m:\u001b[0m\u001b[0;34m\u001b[0m\u001b[0;34m\u001b[0m\u001b[0m\n",
            "\u001b[0;32m/usr/local/lib/python3.10/dist-packages/torch/nn/modules/linear.py\u001b[0m in \u001b[0;36mforward\u001b[0;34m(self, input)\u001b[0m\n\u001b[1;32m    112\u001b[0m \u001b[0;34m\u001b[0m\u001b[0m\n\u001b[1;32m    113\u001b[0m     \u001b[0;32mdef\u001b[0m \u001b[0mforward\u001b[0m\u001b[0;34m(\u001b[0m\u001b[0mself\u001b[0m\u001b[0;34m,\u001b[0m \u001b[0minput\u001b[0m\u001b[0;34m:\u001b[0m \u001b[0mTensor\u001b[0m\u001b[0;34m)\u001b[0m \u001b[0;34m->\u001b[0m \u001b[0mTensor\u001b[0m\u001b[0;34m:\u001b[0m\u001b[0;34m\u001b[0m\u001b[0;34m\u001b[0m\u001b[0m\n\u001b[0;32m--> 114\u001b[0;31m         \u001b[0;32mreturn\u001b[0m \u001b[0mF\u001b[0m\u001b[0;34m.\u001b[0m\u001b[0mlinear\u001b[0m\u001b[0;34m(\u001b[0m\u001b[0minput\u001b[0m\u001b[0;34m,\u001b[0m \u001b[0mself\u001b[0m\u001b[0;34m.\u001b[0m\u001b[0mweight\u001b[0m\u001b[0;34m,\u001b[0m \u001b[0mself\u001b[0m\u001b[0;34m.\u001b[0m\u001b[0mbias\u001b[0m\u001b[0;34m)\u001b[0m\u001b[0;34m\u001b[0m\u001b[0;34m\u001b[0m\u001b[0m\n\u001b[0m\u001b[1;32m    115\u001b[0m \u001b[0;34m\u001b[0m\u001b[0m\n\u001b[1;32m    116\u001b[0m     \u001b[0;32mdef\u001b[0m \u001b[0mextra_repr\u001b[0m\u001b[0;34m(\u001b[0m\u001b[0mself\u001b[0m\u001b[0;34m)\u001b[0m \u001b[0;34m->\u001b[0m \u001b[0mstr\u001b[0m\u001b[0;34m:\u001b[0m\u001b[0;34m\u001b[0m\u001b[0;34m\u001b[0m\u001b[0m\n",
            "\u001b[0;31mRuntimeError\u001b[0m: mat1 and mat2 shapes cannot be multiplied (3x2 and 3x6)"
          ]
        }
      ]
    },
    {
      "cell_type": "markdown",
      "source": [
        "### Finding the min, max, mean, sum, etc (aggregation)"
      ],
      "metadata": {
        "id": "g_jOkfQT5TZI"
      }
    },
    {
      "cell_type": "code",
      "source": [
        "# Create a tensor\n",
        "x = torch.arange(0, 100, 10)\n",
        "x"
      ],
      "metadata": {
        "colab": {
          "base_uri": "https://localhost:8080/"
        },
        "id": "3ilvQvw_2LTQ",
        "outputId": "a529bf53-b86d-466f-f2dc-be0d9a2a8389"
      },
      "execution_count": null,
      "outputs": [
        {
          "output_type": "execute_result",
          "data": {
            "text/plain": [
              "tensor([ 0, 10, 20, 30, 40, 50, 60, 70, 80, 90])"
            ]
          },
          "metadata": {},
          "execution_count": 59
        }
      ]
    },
    {
      "cell_type": "code",
      "source": [
        "print(f\"Minimum: {x.min()}\")\n",
        "print(f\"Maximum: {x.max()}\")\n",
        "# print(f\"Mean: {x.mean()}\") # this will error\n",
        "print(f\"Mean: {x.type(torch.float32).mean()}\") # won't work without float datatype\n",
        "print(f\"Sum: {x.sum()}\")"
      ],
      "metadata": {
        "colab": {
          "base_uri": "https://localhost:8080/"
        },
        "id": "JfJuWIAY5aSX",
        "outputId": "83283a9d-c526-4588-ba12-fa2008ac5ef9"
      },
      "execution_count": null,
      "outputs": [
        {
          "output_type": "stream",
          "name": "stdout",
          "text": [
            "Minimum: 0\n",
            "Maximum: 90\n",
            "Mean: 45.0\n",
            "Sum: 450\n"
          ]
        }
      ]
    },
    {
      "cell_type": "code",
      "source": [
        "torch.max(x), torch.min(x), torch.mean(x.type(torch.float32)), torch.sum(x)\n"
      ],
      "metadata": {
        "colab": {
          "base_uri": "https://localhost:8080/"
        },
        "id": "YwnsvU8i5gfM",
        "outputId": "2ce1f73f-b3b0-4a91-ad04-d5cf690bda48"
      },
      "execution_count": null,
      "outputs": [
        {
          "output_type": "execute_result",
          "data": {
            "text/plain": [
              "(tensor(90), tensor(0), tensor(45.), tensor(450))"
            ]
          },
          "metadata": {},
          "execution_count": 61
        }
      ]
    },
    {
      "cell_type": "markdown",
      "source": [
        "### Positional min/max"
      ],
      "metadata": {
        "id": "bjVSIYc66Gj4"
      }
    },
    {
      "cell_type": "code",
      "source": [
        "# Create a tensor\n",
        "tensor = torch.arange(10, 100, 10)\n",
        "print(f\"Tensor: {tensor}\")\n",
        "\n",
        "# Returns index of max and min values\n",
        "print(f\"Index where max value occurs: {tensor.argmax()}\")\n",
        "print(f\"Index where min value occurs: {tensor.argmin()}\")"
      ],
      "metadata": {
        "colab": {
          "base_uri": "https://localhost:8080/"
        },
        "id": "6eX9T1GN6HP0",
        "outputId": "e06be5a7-4b05-4853-d0a6-238d73028f53"
      },
      "execution_count": null,
      "outputs": [
        {
          "output_type": "stream",
          "name": "stdout",
          "text": [
            "Tensor: tensor([10, 20, 30, 40, 50, 60, 70, 80, 90])\n",
            "Index where max value occurs: 8\n",
            "Index where min value occurs: 0\n"
          ]
        }
      ]
    },
    {
      "cell_type": "markdown",
      "source": [
        "### Change tensor datatype"
      ],
      "metadata": {
        "id": "B7MQsc-16M9C"
      }
    },
    {
      "cell_type": "markdown",
      "source": [
        "As mentioned, a common issue with deep learning operations is having your tensors in different datatypes.\n",
        "\n",
        "If one tensor is in torch.float64 and another is in torch.float32, you might run into some errors.\n",
        "\n",
        "But there's a fix.\n",
        "\n",
        "You can change the datatypes of tensors using torch.Tensor.type(dtype=None) where the dtype parameter is the datatype you'd like to use.\n",
        "\n",
        "First we'll create a tensor and check it's datatype (the default is torch.float32)."
      ],
      "metadata": {
        "id": "3ggz87lu8Ene"
      }
    },
    {
      "cell_type": "code",
      "source": [
        "# Create a tensor and check its datatype\n",
        "tensor = torch.arange(10., 100., 10.)\n",
        "tensor.dtype"
      ],
      "metadata": {
        "colab": {
          "base_uri": "https://localhost:8080/"
        },
        "id": "GGLoos6s6KEo",
        "outputId": "70669e14-a926-41ff-d482-821d2a6e623d"
      },
      "execution_count": null,
      "outputs": [
        {
          "output_type": "execute_result",
          "data": {
            "text/plain": [
              "torch.float32"
            ]
          },
          "metadata": {},
          "execution_count": 64
        }
      ]
    },
    {
      "cell_type": "code",
      "source": [
        "# Create a float16 tensor\n",
        "tensor_float16 = tensor.type(torch.float16)\n",
        "tensor_float16"
      ],
      "metadata": {
        "colab": {
          "base_uri": "https://localhost:8080/"
        },
        "id": "e8y_vN4x8HXd",
        "outputId": "95535453-7205-4a35-b420-4d819739fcc0"
      },
      "execution_count": null,
      "outputs": [
        {
          "output_type": "execute_result",
          "data": {
            "text/plain": [
              "tensor([10., 20., 30., 40., 50., 60., 70., 80., 90.], dtype=torch.float16)"
            ]
          },
          "metadata": {},
          "execution_count": 65
        }
      ]
    },
    {
      "cell_type": "code",
      "source": [
        "# Create a int8 tensor\n",
        "tensor_int8 = tensor.type(torch.int8)\n",
        "tensor_int8"
      ],
      "metadata": {
        "colab": {
          "base_uri": "https://localhost:8080/"
        },
        "id": "21YaZG7X8KGU",
        "outputId": "82cc43ab-4aca-4033-c0f6-fb38dedbcbd3"
      },
      "execution_count": null,
      "outputs": [
        {
          "output_type": "execute_result",
          "data": {
            "text/plain": [
              "tensor([10, 20, 30, 40, 50, 60, 70, 80, 90], dtype=torch.int8)"
            ]
          },
          "metadata": {},
          "execution_count": 66
        }
      ]
    },
    {
      "cell_type": "markdown",
      "source": [
        "### Reshaping, stacking, squeezing and unsqueezing\n"
      ],
      "metadata": {
        "id": "xPAkdfi3AHa1"
      }
    },
    {
      "cell_type": "markdown",
      "source": [
        "![Capture d'écran 2023-11-06 153451.png](data:image/png;base64,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)"
      ],
      "metadata": {
        "id": "Ombg7ZbEDv0S"
      }
    },
    {
      "cell_type": "markdown",
      "source": [
        "Because deep learning models (neural networks) are all about manipulating tensors in some way. And because of the rules of matrix multiplication, if you've got shape mismatches, you'll run into errors. These methods help you make sure the right elements of your tensors are mixing with the right elements of other tensors.\n",
        "\n"
      ],
      "metadata": {
        "id": "dyZZ-vxmEt5T"
      }
    },
    {
      "cell_type": "code",
      "source": [
        "x = torch.arange(1., 8.)\n",
        "x, x.shape"
      ],
      "metadata": {
        "colab": {
          "base_uri": "https://localhost:8080/"
        },
        "id": "2KVLV-kGAJpi",
        "outputId": "88473036-f149-48d7-90f5-34fb695ac6de"
      },
      "execution_count": null,
      "outputs": [
        {
          "output_type": "execute_result",
          "data": {
            "text/plain": [
              "(tensor([1., 2., 3., 4., 5., 6., 7.]), torch.Size([7]))"
            ]
          },
          "metadata": {},
          "execution_count": 67
        }
      ]
    },
    {
      "cell_type": "code",
      "source": [
        "# Let's add an extra dim with torch.reshape()\n",
        "x_reshaped = x.reshape(1,7)\n",
        "x_reshaped"
      ],
      "metadata": {
        "colab": {
          "base_uri": "https://localhost:8080/"
        },
        "id": "UBd2nNX9ExRl",
        "outputId": "6a49aeba-1d9d-4a44-f91d-947836dad0e6"
      },
      "execution_count": null,
      "outputs": [
        {
          "output_type": "execute_result",
          "data": {
            "text/plain": [
              "tensor([[1., 2., 3., 4., 5., 6., 7.]])"
            ]
          },
          "metadata": {},
          "execution_count": 68
        }
      ]
    },
    {
      "cell_type": "markdown",
      "source": [
        "We can also change de view with torch.view()"
      ],
      "metadata": {
        "id": "3rHWSHxiE-Q2"
      }
    },
    {
      "cell_type": "code",
      "source": [
        "# Change view (keeps same data as original but changes view)\n",
        "z = x.view(1,7)\n",
        "z, z.shape"
      ],
      "metadata": {
        "colab": {
          "base_uri": "https://localhost:8080/"
        },
        "id": "tPfKlVGiE7n6",
        "outputId": "61f3e51b-7618-46e6-bb33-2392eb52caa1"
      },
      "execution_count": null,
      "outputs": [
        {
          "output_type": "execute_result",
          "data": {
            "text/plain": [
              "(tensor([[1., 2., 3., 4., 5., 6., 7.]]), torch.Size([1, 7]))"
            ]
          },
          "metadata": {},
          "execution_count": 69
        }
      ]
    },
    {
      "cell_type": "markdown",
      "source": [
        "CAREFUL changing the view changes also the original tensor !!!"
      ],
      "metadata": {
        "id": "pDnKSMbRFiKS"
      }
    },
    {
      "cell_type": "code",
      "source": [
        "# Changing z changes x\n",
        "z[:, 0] = 5\n",
        "z, x"
      ],
      "metadata": {
        "colab": {
          "base_uri": "https://localhost:8080/"
        },
        "id": "mMxefeioFHc8",
        "outputId": "8710a07c-4fdf-4ce9-bf3b-03fda95d7b88"
      },
      "execution_count": null,
      "outputs": [
        {
          "output_type": "execute_result",
          "data": {
            "text/plain": [
              "(tensor([[5., 2., 3., 4., 5., 6., 7.]]), tensor([5., 2., 3., 4., 5., 6., 7.]))"
            ]
          },
          "metadata": {},
          "execution_count": 70
        }
      ]
    },
    {
      "cell_type": "markdown",
      "source": [
        "If we wanted to stack our new tensor on top of itself five times, we could do so with torch.stack().\n",
        "\n"
      ],
      "metadata": {
        "id": "6TWmuXSiFqta"
      }
    },
    {
      "cell_type": "code",
      "source": [
        "# Stack tensors on top of each other\n",
        "x_stacked = torch.stack([x, x, x, x], dim=0)\n",
        "x_stacked"
      ],
      "metadata": {
        "colab": {
          "base_uri": "https://localhost:8080/"
        },
        "id": "p8JGIwG4Fo5A",
        "outputId": "a6af5ab4-81bb-419d-d3d5-beb75b5313aa"
      },
      "execution_count": null,
      "outputs": [
        {
          "output_type": "execute_result",
          "data": {
            "text/plain": [
              "tensor([[5., 2., 3., 4., 5., 6., 7.],\n",
              "        [5., 2., 3., 4., 5., 6., 7.],\n",
              "        [5., 2., 3., 4., 5., 6., 7.],\n",
              "        [5., 2., 3., 4., 5., 6., 7.]])"
            ]
          },
          "metadata": {},
          "execution_count": 78
        }
      ]
    },
    {
      "cell_type": "markdown",
      "source": [
        "\n",
        "How about removing all single dimensions from a tensor?\n",
        "\n",
        "To do so you can use torch.squeeze() (I remember this as squeezing the tensor to only have dimensions over 1)."
      ],
      "metadata": {
        "id": "ED1zxQ0SGNFf"
      }
    },
    {
      "cell_type": "code",
      "source": [
        "print(f\"Previous tensor: {x_reshaped}\")\n",
        "print(f\"Previous shape: {x_reshaped.shape}\")\n",
        "\n",
        "# Remove extra dimension from x_reshaped\n",
        "x_squeezed = x_reshaped.squeeze()\n",
        "print(f\"\\nNew tensor: {x_squeezed}\")\n",
        "print(f\"New shape: {x_squeezed.shape}\")"
      ],
      "metadata": {
        "colab": {
          "base_uri": "https://localhost:8080/"
        },
        "id": "Zyk-pPVxGBZ6",
        "outputId": "79d03214-3082-43c0-b0e2-171581f67439"
      },
      "execution_count": null,
      "outputs": [
        {
          "output_type": "stream",
          "name": "stdout",
          "text": [
            "Previous tensor: tensor([[5., 2., 3., 4., 5., 6., 7.]])\n",
            "Previous shape: torch.Size([1, 7])\n",
            "\n",
            "New tensor: tensor([5., 2., 3., 4., 5., 6., 7.])\n",
            "New shape: torch.Size([7])\n"
          ]
        }
      ]
    },
    {
      "cell_type": "markdown",
      "source": [
        "We can also do the reverse with torch.unsqueeze()"
      ],
      "metadata": {
        "id": "1ycRxk3EGb59"
      }
    },
    {
      "cell_type": "code",
      "source": [
        "print(f\"Previous tensor: {x_squeezed}\")\n",
        "print(f\"Previous shape: {x_squeezed.shape}\")\n",
        "\n",
        "## Add an extra dimension with unsqueeze\n",
        "x_unsqueezed = x_squeezed.unsqueeze(dim=0)\n",
        "print(f\"\\nNew tensor: {x_unsqueezed}\")\n",
        "print(f\"New shape: {x_unsqueezed.shape}\")"
      ],
      "metadata": {
        "colab": {
          "base_uri": "https://localhost:8080/"
        },
        "id": "w2SlEOhlF_YR",
        "outputId": "69669484-fa51-4076-b303-4e064129d64c"
      },
      "execution_count": null,
      "outputs": [
        {
          "output_type": "stream",
          "name": "stdout",
          "text": [
            "Previous tensor: tensor([5., 2., 3., 4., 5., 6., 7.])\n",
            "Previous shape: torch.Size([7])\n",
            "\n",
            "New tensor: tensor([[5., 2., 3., 4., 5., 6., 7.]])\n",
            "New shape: torch.Size([1, 7])\n"
          ]
        }
      ]
    },
    {
      "cell_type": "markdown",
      "source": [
        "\n",
        "You can also rearrange the order of axes values with torch.permute(input, dims), where the input gets turned into a view with new dims."
      ],
      "metadata": {
        "id": "UrREMzwPHp1y"
      }
    },
    {
      "cell_type": "code",
      "source": [
        "# Create tensor with specific shape\n",
        "x_original = torch.rand(size=(224, 224, 3))\n",
        "\n",
        "# Permute the original tensor to rearrange the axis order\n",
        "x_permuted = x_original.permute(2, 0, 1) # shifts axis 0->1, 1->2, 2->0\n",
        "\n",
        "print(f\"Previous shape: {x_original.shape}\")\n",
        "print(f\"New shape: {x_permuted.shape}\")"
      ],
      "metadata": {
        "colab": {
          "base_uri": "https://localhost:8080/"
        },
        "id": "EIDo4lI8F8IN",
        "outputId": "d333e56c-9e14-4816-cd8b-661f452bad38"
      },
      "execution_count": null,
      "outputs": [
        {
          "output_type": "stream",
          "name": "stdout",
          "text": [
            "Previous shape: torch.Size([224, 224, 3])\n",
            "New shape: torch.Size([3, 224, 224])\n"
          ]
        }
      ]
    },
    {
      "cell_type": "markdown",
      "source": [
        " Because permuting returns a view (shares the same data as the original), the values in the permuted tensor will be the same as the original tensor and if you change the values in the view, it will change the values of the original."
      ],
      "metadata": {
        "id": "fyqEli5WH4Zx"
      }
    },
    {
      "cell_type": "code",
      "source": [],
      "metadata": {
        "id": "oXYwFiGLisaW"
      },
      "execution_count": null,
      "outputs": []
    },
    {
      "cell_type": "markdown",
      "source": [
        "#Indexing (selecting data from tensors)\n"
      ],
      "metadata": {
        "id": "WYJe9MH9H5ru"
      }
    },
    {
      "cell_type": "markdown",
      "source": [
        "Sometimes you'll want to select specific data from tensors (for example, only the first column or second row).\n",
        "\n",
        "To do so, you can use indexing.\n",
        "\n",
        "If you've ever done indexing on Python lists or NumPy arrays, indexing in PyTorch with tensors is very similar."
      ],
      "metadata": {
        "id": "q8oxHoCmKQTO"
      }
    },
    {
      "cell_type": "code",
      "source": [
        "# Create a tensor\n",
        "x = torch.arange(1,10).reshape(1,3,3)\n",
        "x, x.shape"
      ],
      "metadata": {
        "colab": {
          "base_uri": "https://localhost:8080/"
        },
        "id": "gkwx5LemH4op",
        "outputId": "7e1bb6fe-6232-468c-9a47-e3a9df1ea6ee"
      },
      "execution_count": null,
      "outputs": [
        {
          "output_type": "stream",
          "name": "stdout",
          "text": [
            "torch.Size([9])\n"
          ]
        },
        {
          "output_type": "execute_result",
          "data": {
            "text/plain": [
              "(tensor([[[1, 2, 3],\n",
              "          [4, 5, 6],\n",
              "          [7, 8, 9]]]),\n",
              " torch.Size([1, 3, 3]))"
            ]
          },
          "metadata": {},
          "execution_count": 88
        }
      ]
    },
    {
      "cell_type": "code",
      "source": [
        "# Let's index bracket by bracket\n",
        "print(f\"First square bracket:\\n{x[0]}\")\n",
        "print(f\"Second square bracket: {x[0][0]}\")\n",
        "print(f\"Third square bracket: {x[0][0][0]}\")"
      ],
      "metadata": {
        "colab": {
          "base_uri": "https://localhost:8080/"
        },
        "id": "n3bPLXY4K3u9",
        "outputId": "0f79bacc-c798-4153-9ed8-50d8113c01c5"
      },
      "execution_count": null,
      "outputs": [
        {
          "output_type": "stream",
          "name": "stdout",
          "text": [
            "First square bracket:\n",
            "tensor([[1, 2, 3],\n",
            "        [4, 5, 6],\n",
            "        [7, 8, 9]])\n",
            "Second square bracket: tensor([1, 2, 3])\n",
            "Third square bracket: 1\n"
          ]
        }
      ]
    },
    {
      "cell_type": "code",
      "source": [
        "# Get all values of 0th dimension and the 0 index of 1st dimension\n",
        "x[:, 0]"
      ],
      "metadata": {
        "colab": {
          "base_uri": "https://localhost:8080/"
        },
        "id": "KvDeSwWTKhAn",
        "outputId": "a702b84b-cdaf-440e-a13c-22bdc62b7750"
      },
      "execution_count": null,
      "outputs": [
        {
          "output_type": "execute_result",
          "data": {
            "text/plain": [
              "tensor([[1, 2, 3]])"
            ]
          },
          "metadata": {},
          "execution_count": 90
        }
      ]
    },
    {
      "cell_type": "code",
      "source": [
        "# Get all values of 0th & 1st dimensions but only index 1 of 2nd dimension\n",
        "x[:, :, 1]"
      ],
      "metadata": {
        "colab": {
          "base_uri": "https://localhost:8080/"
        },
        "id": "44brfnGiKYHS",
        "outputId": "938244d9-aefe-4d84-bc4e-53f91a04060e"
      },
      "execution_count": null,
      "outputs": [
        {
          "output_type": "execute_result",
          "data": {
            "text/plain": [
              "tensor([[2, 5, 8]])"
            ]
          },
          "metadata": {},
          "execution_count": 91
        }
      ]
    },
    {
      "cell_type": "code",
      "source": [
        "# Get all values of the 0 dimension but only the 1 index value of the 1st and 2nd dimension\n",
        "x[:, 1, 1]"
      ],
      "metadata": {
        "colab": {
          "base_uri": "https://localhost:8080/"
        },
        "id": "vqN5L6LlOXkC",
        "outputId": "84474454-5cc9-46fc-c031-d4430e957037"
      },
      "execution_count": null,
      "outputs": [
        {
          "output_type": "execute_result",
          "data": {
            "text/plain": [
              "tensor([5])"
            ]
          },
          "metadata": {},
          "execution_count": 92
        }
      ]
    },
    {
      "cell_type": "code",
      "source": [
        "x[0,0,:]"
      ],
      "metadata": {
        "colab": {
          "base_uri": "https://localhost:8080/"
        },
        "id": "vNU435m3ObjE",
        "outputId": "2ad914cf-95e2-4437-b018-f6bf8a00d9c5"
      },
      "execution_count": null,
      "outputs": [
        {
          "output_type": "execute_result",
          "data": {
            "text/plain": [
              "tensor([1, 2, 3])"
            ]
          },
          "metadata": {},
          "execution_count": 95
        }
      ]
    },
    {
      "cell_type": "markdown",
      "source": [
        "# PyTorch tensors & NumPy\n"
      ],
      "metadata": {
        "id": "9vfiBBqlO0IB"
      }
    },
    {
      "cell_type": "markdown",
      "source": [
        "Since NumPy is a popular Python numerical computing library, PyTorch has functionality to interact with it nicely.\n",
        "\n",
        "The two main methods you'll want to use for NumPy to PyTorch (and back again) are:\n",
        "\n",
        "*   torch.from_numpy(ndarray) - NumPy array -> PyTorch tensor.\n",
        "*   torch.Tensor.numpy() - PyTorch tensor -> NumPy array.\n",
        "\n",
        "\n"
      ],
      "metadata": {
        "id": "QZZK8bBKPVxr"
      }
    },
    {
      "cell_type": "code",
      "source": [
        "# NumPy array to tensor\n",
        "import numpy as np\n",
        "array = np.arange(1.0, 8.0)\n",
        "tensor = torch.from_numpy(array)\n",
        "array, tensor"
      ],
      "metadata": {
        "colab": {
          "base_uri": "https://localhost:8080/"
        },
        "id": "HbG9zmW9OiJv",
        "outputId": "1881a57e-c745-4e95-8ab5-d31cbd967bbe"
      },
      "execution_count": null,
      "outputs": [
        {
          "output_type": "execute_result",
          "data": {
            "text/plain": [
              "(array([1., 2., 3., 4., 5., 6., 7.]),\n",
              " tensor([1., 2., 3., 4., 5., 6., 7.], dtype=torch.float64))"
            ]
          },
          "metadata": {},
          "execution_count": 96
        }
      ]
    },
    {
      "cell_type": "markdown",
      "source": [
        "By default, NumPy arrays are created with the datatype float64 and if you convert it to a PyTorch tensor, it'll keep the same datatype (as above).\n",
        "\n",
        "However, many PyTorch calculations default to using float32.\n",
        "\n",
        "So if you want to convert your NumPy array (float64) -> PyTorch tensor (float64) -> PyTorch tensor (float32), you can use tensor = torch.from_numpy(array).type(torch.float32)."
      ],
      "metadata": {
        "id": "J2a0gNgcPlXn"
      }
    },
    {
      "cell_type": "code",
      "source": [
        "# Change the array, keep the tensor\n",
        "array = array + 1\n",
        "array, tensor"
      ],
      "metadata": {
        "colab": {
          "base_uri": "https://localhost:8080/"
        },
        "id": "VIrOglLcPlpW",
        "outputId": "3083b807-7c33-4d7b-e8d7-b3a4c8f43753"
      },
      "execution_count": null,
      "outputs": [
        {
          "output_type": "execute_result",
          "data": {
            "text/plain": [
              "(array([2., 3., 4., 5., 6., 7., 8.]),\n",
              " tensor([1., 2., 3., 4., 5., 6., 7.], dtype=torch.float64))"
            ]
          },
          "metadata": {},
          "execution_count": 97
        }
      ]
    },
    {
      "cell_type": "code",
      "source": [
        "# Tensor to NumPy array\n",
        "tensor = torch.ones(7) # create a tensor of ones with dtype=float32\n",
        "numpy_tensor = tensor.numpy() # will be dtype=float32 unless changed\n",
        "tensor, numpy_tensor"
      ],
      "metadata": {
        "colab": {
          "base_uri": "https://localhost:8080/"
        },
        "id": "ZeAamCh9Pssn",
        "outputId": "6dffd9f9-afbe-4c1d-de7f-32d274103826"
      },
      "execution_count": null,
      "outputs": [
        {
          "output_type": "execute_result",
          "data": {
            "text/plain": [
              "(tensor([1., 1., 1., 1., 1., 1., 1.]),\n",
              " array([1., 1., 1., 1., 1., 1., 1.], dtype=float32))"
            ]
          },
          "metadata": {},
          "execution_count": 98
        }
      ]
    },
    {
      "cell_type": "code",
      "source": [
        "# Change the tensor, keep the array the same\n",
        "tensor = tensor + 1\n",
        "tensor, numpy_tensor"
      ],
      "metadata": {
        "colab": {
          "base_uri": "https://localhost:8080/"
        },
        "id": "XJ78AqRzPuTG",
        "outputId": "0d1f33cc-6c05-4b6c-f700-ac7f11fcc5df"
      },
      "execution_count": null,
      "outputs": [
        {
          "output_type": "execute_result",
          "data": {
            "text/plain": [
              "(tensor([2., 2., 2., 2., 2., 2., 2.]),\n",
              " array([1., 1., 1., 1., 1., 1., 1.], dtype=float32))"
            ]
          },
          "metadata": {},
          "execution_count": 99
        }
      ]
    },
    {
      "cell_type": "markdown",
      "source": [
        "#Reproducibility (trying to take the random out of random)"
      ],
      "metadata": {
        "id": "0qTI0WOEPyXW"
      }
    },
    {
      "cell_type": "code",
      "source": [
        "# Create two random tensors\n",
        "random_tensor_A = torch.rand(3, 4)\n",
        "random_tensor_B = torch.rand(3, 4)\n",
        "\n",
        "print(f\"Tensor A:\\n{random_tensor_A}\\n\")\n",
        "print(f\"Tensor B:\\n{random_tensor_B}\\n\")\n",
        "print(f\"Does Tensor A equal Tensor B? (anywhere)\")\n",
        "random_tensor_A == random_tensor_B"
      ],
      "metadata": {
        "colab": {
          "base_uri": "https://localhost:8080/"
        },
        "id": "qf2RumylPzEj",
        "outputId": "7de85e55-6b80-486c-c28b-9e9b4d187c35"
      },
      "execution_count": null,
      "outputs": [
        {
          "output_type": "stream",
          "name": "stdout",
          "text": [
            "Tensor A:\n",
            "tensor([[0.5745, 0.9200, 0.3230, 0.8613],\n",
            "        [0.0919, 0.3102, 0.9536, 0.6002],\n",
            "        [0.0351, 0.6826, 0.3743, 0.5220]])\n",
            "\n",
            "Tensor B:\n",
            "tensor([[0.1336, 0.9666, 0.9754, 0.8474],\n",
            "        [0.8988, 0.1105, 0.4563, 0.9719],\n",
            "        [0.3968, 0.1496, 0.4743, 0.9973]])\n",
            "\n",
            "Does Tensor A equal Tensor B? (anywhere)\n"
          ]
        },
        {
          "output_type": "execute_result",
          "data": {
            "text/plain": [
              "tensor([[False, False, False, False],\n",
              "        [False, False, False, False],\n",
              "        [False, False, False, False]])"
            ]
          },
          "metadata": {},
          "execution_count": 100
        }
      ]
    },
    {
      "cell_type": "code",
      "source": [
        "import random\n",
        "\n",
        "# # Set the random seed\n",
        "RANDOM_SEED=42 # try changing this to different values and see what happens to the numbers below\n",
        "torch.manual_seed(seed=RANDOM_SEED)\n",
        "random_tensor_C = torch.rand(3, 4)\n",
        "\n",
        "# Have to reset the seed every time a new rand() is called\n",
        "# Without this, tensor_D would be different to tensor_C\n",
        "torch.random.manual_seed(seed=RANDOM_SEED) # try commenting this line out and seeing what happens\n",
        "random_tensor_D = torch.rand(3, 4)\n",
        "\n",
        "print(f\"Tensor C:\\n{random_tensor_C}\\n\")\n",
        "print(f\"Tensor D:\\n{random_tensor_D}\\n\")\n",
        "print(f\"Does Tensor C equal Tensor D? (anywhere)\")\n",
        "random_tensor_C == random_tensor_D"
      ],
      "metadata": {
        "colab": {
          "base_uri": "https://localhost:8080/"
        },
        "id": "twr0ZCzNRmvw",
        "outputId": "c13cc855-5db2-4634-8656-4a83246fc5b0"
      },
      "execution_count": null,
      "outputs": [
        {
          "output_type": "stream",
          "name": "stdout",
          "text": [
            "Tensor C:\n",
            "tensor([[0.8823, 0.9150, 0.3829, 0.9593],\n",
            "        [0.3904, 0.6009, 0.2566, 0.7936],\n",
            "        [0.9408, 0.1332, 0.9346, 0.5936]])\n",
            "\n",
            "Tensor D:\n",
            "tensor([[0.8823, 0.9150, 0.3829, 0.9593],\n",
            "        [0.3904, 0.6009, 0.2566, 0.7936],\n",
            "        [0.9408, 0.1332, 0.9346, 0.5936]])\n",
            "\n",
            "Does Tensor C equal Tensor D? (anywhere)\n"
          ]
        },
        {
          "output_type": "execute_result",
          "data": {
            "text/plain": [
              "tensor([[True, True, True, True],\n",
              "        [True, True, True, True],\n",
              "        [True, True, True, True]])"
            ]
          },
          "metadata": {},
          "execution_count": 101
        }
      ]
    },
    {
      "cell_type": "markdown",
      "source": [
        "# Running tensors on GPUs (and making faster computations)¶\n"
      ],
      "metadata": {
        "id": "vRBNNtEBRqIw"
      }
    },
    {
      "cell_type": "markdown",
      "source": [
        "Deep learning algorithms require a lot of numerical operations.\n",
        "\n",
        "And by default these operations are often done on a CPU (computer processing unit).\n",
        "\n",
        "However, there's another common piece of hardware called a GPU (graphics processing unit), which is often much faster at performing the specific types of operations neural networks need (matrix multiplications) than CPUs."
      ],
      "metadata": {
        "id": "TUj87uqqRtfA"
      }
    },
    {
      "cell_type": "markdown",
      "source": [
        "### Getting a GPU"
      ],
      "metadata": {
        "id": "cb9tS9NjRwxg"
      }
    },
    {
      "cell_type": "markdown",
      "source": [
        "![image.png](data:image/png;base64,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)"
      ],
      "metadata": {
        "id": "P34QYTFkR2VU"
      }
    },
    {
      "cell_type": "markdown",
      "source": [
        "If you don't have a nvidia GPU, there are alternatives like ROCm for AMD gpus"
      ],
      "metadata": {
        "id": "Qmv4Uf3ISX66"
      }
    },
    {
      "cell_type": "code",
      "source": [
        "!rocminfo\n",
        "\n"
      ],
      "metadata": {
        "colab": {
          "base_uri": "https://localhost:8080/"
        },
        "id": "t1gzKBDZRqt9",
        "outputId": "25e2b934-57f2-402c-d3a3-6b00f74cba1c"
      },
      "execution_count": null,
      "outputs": [
        {
          "output_type": "stream",
          "name": "stdout",
          "text": [
            "/bin/bash: line 1: rocminfo: command not found\n"
          ]
        }
      ]
    },
    {
      "cell_type": "code",
      "source": [
        "import torch\n",
        "\n",
        "# Assurez-vous que ROCm est bien installé et que PyTorch est configuré pour l'utiliser.\n",
        "# Vérifiez si ROCm est disponible\n",
        "if torch.backends.mps.is_available():\n",
        "    # Définit le périphérique sur le GPU AMD\n",
        "    device = torch.device(\"mps\")\n",
        "\n",
        "    # Créer un tensor et le déplacer sur le GPU AMD\n",
        "    tensor = torch.tensor([1, 2, 3], device=device)\n",
        "\n",
        "    # Effectuer des opérations sur le GPU\n",
        "    tensor = tensor * tensor\n",
        "\n",
        "    # Ramener le résultat sur le CPU si nécessaire\n",
        "    tensor = tensor.to(\"cpu\")\n",
        "\n",
        "    print(tensor)\n",
        "else:\n",
        "    print(\"ROCm n'est pas disponible. Vérifiez votre installation.\")\n"
      ],
      "metadata": {
        "colab": {
          "base_uri": "https://localhost:8080/"
        },
        "id": "Xhhks1_iZJBS",
        "outputId": "044d0264-22c6-49ba-a5a9-088fe8955f17"
      },
      "execution_count": null,
      "outputs": [
        {
          "output_type": "stream",
          "name": "stdout",
          "text": [
            "ROCm n'est pas disponible. Vérifiez votre installation.\n"
          ]
        }
      ]
    }
  ]
}